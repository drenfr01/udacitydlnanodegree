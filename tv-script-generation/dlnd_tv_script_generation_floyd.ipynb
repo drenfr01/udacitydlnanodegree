{
 "cells": [
  {
   "cell_type": "markdown",
   "metadata": {},
   "source": [
    "# TV Script Generation\n",
    "In this project, you'll generate your own [Simpsons](https://en.wikipedia.org/wiki/The_Simpsons) TV scripts using RNNs.  You'll be using part of the [Simpsons dataset](https://www.kaggle.com/wcukierski/the-simpsons-by-the-data) of scripts from 27 seasons.  The Neural Network you'll build will generate a new TV script for a scene at [Moe's Tavern](https://simpsonswiki.com/wiki/Moe's_Tavern).\n",
    "## Get the Data\n",
    "The data is already provided for you.  You'll be using a subset of the original dataset.  It consists of only the scenes in Moe's Tavern.  This doesn't include other versions of the tavern, like \"Moe's Cavern\", \"Flaming Moe's\", \"Uncle Moe's Family Feed-Bag\", etc.."
   ]
  },
  {
   "cell_type": "code",
   "execution_count": 1,
   "metadata": {
    "collapsed": true
   },
   "outputs": [],
   "source": [
    "\"\"\"\n",
    "DON'T MODIFY ANYTHING IN THIS CELL\n",
    "\"\"\"\n",
    "import helper\n",
    "\n",
    "data_dir = './data/simpsons/moes_tavern_lines.txt'\n",
    "text = helper.load_data(data_dir)\n",
    "# Ignore notice, since we don't use it for analysing the data\n",
    "text = text[81:]"
   ]
  },
  {
   "cell_type": "markdown",
   "metadata": {},
   "source": [
    "## Explore the Data\n",
    "Play around with `view_sentence_range` to view different parts of the data."
   ]
  },
  {
   "cell_type": "code",
   "execution_count": 2,
   "metadata": {},
   "outputs": [
    {
     "name": "stdout",
     "output_type": "stream",
     "text": [
      "Dataset Stats\n",
      "Roughly the number of unique words: 11492\n",
      "Number of scenes: 262\n",
      "Average number of sentences in each scene: 15.248091603053435\n",
      "Number of lines: 4257\n",
      "Average number of words in each line: 11.50434578341555\n",
      "\n",
      "The sentences 20 to 40:\n",
      "\n",
      "Moe_Szyslak: Looks like this is the end.\n",
      "Barney_Gumble: That's all right. I couldn't have led a richer life.\n",
      "Barney_Gumble: So the next time somebody tells you county folk are good, honest people, you can spit in their faces for me!\n",
      "Lisa_Simpson: I will, Mr. Gumbel. But if you'll excuse me, I'm profiling my dad for the school paper. I thought it would be neat to follow him around for a day to see what makes him tick.\n",
      "Barney_Gumble: Oh, that's sweet. I used to follow my dad to a lot of bars too. (BELCH)\n",
      "Moe_Szyslak: Here you go. One beer, one chocolate milk.\n",
      "Lisa_Simpson: Uh, excuse me, I have the chocolate milk.\n",
      "Moe_Szyslak: Oh.\n",
      "Moe_Szyslak: What's the matter, Homer? The depressin' effects of alcohol usually don't kick in 'til closing time.\n",
      "Lisa_Simpson: He's just a little nervous. (PROUDLY) He has to give a speech tomorrow on \"How To Keep Cool In A Crisis.\"\n",
      "Homer_Simpson: (SOBS) What am I gonna do? What am I gonna do?\n",
      "Barney_Gumble: Hey, I had to give a speech once. I was pretty nervous, so I used a little trick. I pictured everyone in their underwear. The judge, the jury, my lawyer, everybody.\n",
      "Homer_Simpson: Did it work?\n",
      "Barney_Gumble: I'm a free man, ain't I?\n",
      "Barney_Gumble: Whoa!\n",
      "Barney_Gumble: Huh? A pretzel? Wow, looks like I pulled a Homer!\n",
      "\n",
      "\n",
      "Patrons: (MUMBLING, NOT IN UNISON) Happy thoughts... happy thoughts... we love that boy.\n"
     ]
    }
   ],
   "source": [
    "view_sentence_range = (20, 40)\n",
    "\n",
    "\"\"\"\n",
    "DON'T MODIFY ANYTHING IN THIS CELL\n",
    "\"\"\"\n",
    "import numpy as np\n",
    "\n",
    "print('Dataset Stats')\n",
    "print('Roughly the number of unique words: {}'.format(len({word: None for word in text.split()})))\n",
    "scenes = text.split('\\n\\n')\n",
    "print('Number of scenes: {}'.format(len(scenes)))\n",
    "sentence_count_scene = [scene.count('\\n') for scene in scenes]\n",
    "print('Average number of sentences in each scene: {}'.format(np.average(sentence_count_scene)))\n",
    "\n",
    "sentences = [sentence for scene in scenes for sentence in scene.split('\\n')]\n",
    "print('Number of lines: {}'.format(len(sentences)))\n",
    "word_count_sentence = [len(sentence.split()) for sentence in sentences]\n",
    "print('Average number of words in each line: {}'.format(np.average(word_count_sentence)))\n",
    "\n",
    "print()\n",
    "print('The sentences {} to {}:'.format(*view_sentence_range))\n",
    "print('\\n'.join(text.split('\\n')[view_sentence_range[0]:view_sentence_range[1]]))"
   ]
  },
  {
   "cell_type": "markdown",
   "metadata": {},
   "source": [
    "## Implement Preprocessing Functions\n",
    "The first thing to do to any dataset is preprocessing.  Implement the following preprocessing functions below:\n",
    "- Lookup Table\n",
    "- Tokenize Punctuation\n",
    "\n",
    "### Lookup Table\n",
    "To create a word embedding, you first need to transform the words to ids.  In this function, create two dictionaries:\n",
    "- Dictionary to go from the words to an id, we'll call `vocab_to_int`\n",
    "- Dictionary to go from the id to word, we'll call `int_to_vocab`\n",
    "\n",
    "Return these dictionaries in the following tuple `(vocab_to_int, int_to_vocab)`"
   ]
  },
  {
   "cell_type": "code",
   "execution_count": 3,
   "metadata": {},
   "outputs": [
    {
     "name": "stdout",
     "output_type": "stream",
     "text": [
      "Tests Passed\n"
     ]
    }
   ],
   "source": [
    "import numpy as np\n",
    "import problem_unittests as tests\n",
    "\n",
    "def create_lookup_tables(text):\n",
    "    \"\"\"\n",
    "    Create lookup tables for vocabulary\n",
    "    :param text: The text of tv scripts split into words\n",
    "    :return: A tuple of dicts (vocab_to_int, int_to_vocab)\n",
    "    \"\"\"\n",
    "    # TODO: Implement Function\n",
    "    vocab_to_int = {word: counter for counter,word in enumerate((set(text)))}\n",
    "    int_to_vocab = {value: key for key, value in vocab_to_int.items()}\n",
    "    return vocab_to_int, int_to_vocab\n",
    "\n",
    "\n",
    "\n",
    "\n",
    "\"\"\"\n",
    "DON'T MODIFY ANYTHING IN THIS CELL THAT IS BELOW THIS LINE\n",
    "\"\"\"\n",
    "tests.test_create_lookup_tables(create_lookup_tables)"
   ]
  },
  {
   "cell_type": "markdown",
   "metadata": {},
   "source": [
    "### Tokenize Punctuation\n",
    "We'll be splitting the script into a word array using spaces as delimiters.  However, punctuations like periods and exclamation marks make it hard for the neural network to distinguish between the word \"bye\" and \"bye!\".\n",
    "\n",
    "Implement the function `token_lookup` to return a dict that will be used to tokenize symbols like \"!\" into \"||Exclamation_Mark||\".  Create a dictionary for the following symbols where the symbol is the key and value is the token:\n",
    "- Period ( . )\n",
    "- Comma ( , )\n",
    "- Quotation Mark ( \" )\n",
    "- Semicolon ( ; )\n",
    "- Exclamation mark ( ! )\n",
    "- Question mark ( ? )\n",
    "- Left Parentheses ( ( )\n",
    "- Right Parentheses ( ) )\n",
    "- Dash ( -- )\n",
    "- Return ( \\n )\n",
    "\n",
    "This dictionary will be used to token the symbols and add the delimiter (space) around it.  This separates the symbols as it's own word, making it easier for the neural network to predict on the next word. Make sure you don't use a token that could be confused as a word. Instead of using the token \"dash\", try using something like \"||dash||\"."
   ]
  },
  {
   "cell_type": "code",
   "execution_count": 4,
   "metadata": {},
   "outputs": [
    {
     "name": "stdout",
     "output_type": "stream",
     "text": [
      "Tests Passed\n"
     ]
    }
   ],
   "source": [
    "def token_lookup():\n",
    "    \"\"\"\n",
    "    Generate a dict to turn punctuation into a token.\n",
    "    :return: Tokenize dictionary where the key is the punctuation and the value is the token\n",
    "    \"\"\"\n",
    "    # TODO: Implement Function\n",
    "    punctuation_dict = {\".\" : \"||Period||\", \n",
    "                        \",\" : \"||Comma||\",\n",
    "                        \"\\\"\" : \"||Quotation_Mark||\",\n",
    "                        \";\" : \"||Semicolon||\",\n",
    "                        \"!\" : \"||Exclamation_Mark||\",\n",
    "                        \"?\" : \"||Question_Mark||\",\n",
    "                        \"(\" : \"||Left_Parentheses||\",\n",
    "                        \")\" : \"||Right_Parentheses||\",\n",
    "                        \"--\" : \"||Dash||\",\n",
    "                        \"\\n\": \"||Return||\"\n",
    "                       }\n",
    "    return punctuation_dict\n",
    "\n",
    "\"\"\"\n",
    "DON'T MODIFY ANYTHING IN THIS CELL THAT IS BELOW THIS LINE\n",
    "\"\"\"\n",
    "tests.test_tokenize(token_lookup)"
   ]
  },
  {
   "cell_type": "markdown",
   "metadata": {},
   "source": [
    "## Preprocess all the data and save it\n",
    "Running the code cell below will preprocess all the data and save it to file."
   ]
  },
  {
   "cell_type": "code",
   "execution_count": 5,
   "metadata": {
    "collapsed": true
   },
   "outputs": [],
   "source": [
    "\"\"\"\n",
    "DON'T MODIFY ANYTHING IN THIS CELL\n",
    "\"\"\"\n",
    "# Preprocess Training, Validation, and Testing Data\n",
    "helper.preprocess_and_save_data(data_dir, token_lookup, create_lookup_tables)"
   ]
  },
  {
   "cell_type": "markdown",
   "metadata": {},
   "source": [
    "# Check Point\n",
    "This is your first checkpoint. If you ever decide to come back to this notebook or have to restart the notebook, you can start from here. The preprocessed data has been saved to disk."
   ]
  },
  {
   "cell_type": "code",
   "execution_count": 6,
   "metadata": {
    "collapsed": true
   },
   "outputs": [],
   "source": [
    "\"\"\"\n",
    "DON'T MODIFY ANYTHING IN THIS CELL\n",
    "\"\"\"\n",
    "import helper\n",
    "import numpy as np\n",
    "import problem_unittests as tests\n",
    "\n",
    "int_text, vocab_to_int, int_to_vocab, token_dict = helper.load_preprocess()"
   ]
  },
  {
   "cell_type": "markdown",
   "metadata": {},
   "source": [
    "## Build the Neural Network\n",
    "You'll build the components necessary to build a RNN by implementing the following functions below:\n",
    "- get_inputs\n",
    "- get_init_cell\n",
    "- get_embed\n",
    "- build_rnn\n",
    "- build_nn\n",
    "- get_batches\n",
    "\n",
    "### Check the Version of TensorFlow and Access to GPU"
   ]
  },
  {
   "cell_type": "code",
   "execution_count": 7,
   "metadata": {},
   "outputs": [
    {
     "name": "stdout",
     "output_type": "stream",
     "text": [
      "TensorFlow Version: 1.1.0\n",
      "Default GPU Device: /gpu:0\n"
     ]
    }
   ],
   "source": [
    "\"\"\"\n",
    "DON'T MODIFY ANYTHING IN THIS CELL\n",
    "\"\"\"\n",
    "from distutils.version import LooseVersion\n",
    "import warnings\n",
    "import tensorflow as tf\n",
    "\n",
    "# Check TensorFlow Version\n",
    "assert LooseVersion(tf.__version__) >= LooseVersion('1.0'), 'Please use TensorFlow version 1.0 or newer'\n",
    "print('TensorFlow Version: {}'.format(tf.__version__))\n",
    "\n",
    "# Check for a GPU\n",
    "if not tf.test.gpu_device_name():\n",
    "    warnings.warn('No GPU found. Please use a GPU to train your neural network.')\n",
    "else:\n",
    "    print('Default GPU Device: {}'.format(tf.test.gpu_device_name()))"
   ]
  },
  {
   "cell_type": "markdown",
   "metadata": {},
   "source": [
    "### Input\n",
    "Implement the `get_inputs()` function to create TF Placeholders for the Neural Network.  It should create the following placeholders:\n",
    "- Input text placeholder named \"input\" using the [TF Placeholder](https://www.tensorflow.org/api_docs/python/tf/placeholder) `name` parameter.\n",
    "- Targets placeholder\n",
    "- Learning Rate placeholder\n",
    "\n",
    "Return the placeholders in the following tuple `(Input, Targets, LearningRate)`"
   ]
  },
  {
   "cell_type": "code",
   "execution_count": 8,
   "metadata": {},
   "outputs": [
    {
     "name": "stdout",
     "output_type": "stream",
     "text": [
      "Tests Passed\n"
     ]
    }
   ],
   "source": [
    "def get_inputs():\n",
    "    \"\"\"\n",
    "    Create TF Placeholders for input, targets, and learning rate.\n",
    "    :return: Tuple (input, targets, learning rate)\n",
    "    \"\"\"\n",
    "    # TODO: Implement Function\n",
    "    text_input = tf.placeholder(tf.int32, (None,None), name='input')\n",
    "    targets = tf.placeholder(tf.int32, (None, None))\n",
    "    learning_rate = tf.placeholder(tf.float32)\n",
    "    return text_input, targets, learning_rate\n",
    "\n",
    "\n",
    "\"\"\"\n",
    "DON'T MODIFY ANYTHING IN THIS CELL THAT IS BELOW THIS LINE\n",
    "\"\"\"\n",
    "tests.test_get_inputs(get_inputs)"
   ]
  },
  {
   "cell_type": "markdown",
   "metadata": {},
   "source": [
    "### Build RNN Cell and Initialize\n",
    "Stack one or more [`BasicLSTMCells`](https://www.tensorflow.org/api_docs/python/tf/contrib/rnn/BasicLSTMCell) in a [`MultiRNNCell`](https://www.tensorflow.org/api_docs/python/tf/contrib/rnn/MultiRNNCell).\n",
    "- The Rnn size should be set using `rnn_size`\n",
    "- Initalize Cell State using the MultiRNNCell's [`zero_state()`](https://www.tensorflow.org/api_docs/python/tf/contrib/rnn/MultiRNNCell#zero_state) function\n",
    "    - Apply the name \"initial_state\" to the initial state using [`tf.identity()`](https://www.tensorflow.org/api_docs/python/tf/identity)\n",
    "\n",
    "Return the cell and initial state in the following tuple `(Cell, InitialState)`"
   ]
  },
  {
   "cell_type": "code",
   "execution_count": 9,
   "metadata": {},
   "outputs": [
    {
     "name": "stdout",
     "output_type": "stream",
     "text": [
      "Tests Passed\n"
     ]
    }
   ],
   "source": [
    "def get_init_cell(batch_size, rnn_size):\n",
    "    \"\"\"\n",
    "    Create an RNN Cell and initialize it.\n",
    "    :param batch_size: Size of batches\n",
    "    :param rnn_size: Size of RNNs\n",
    "    :return: Tuple (cell, initialize state)\n",
    "    \"\"\"\n",
    "    # TODO: Implement Function\n",
    "    num_layers = 2\n",
    "    \n",
    "    def build_cell(lstm_size):\n",
    "        lstm = tf.contrib.rnn.BasicLSTMCell(lstm_size)\n",
    "        return lstm\n",
    "        \n",
    "    multi_rnn = tf.contrib.rnn.MultiRNNCell([build_cell(rnn_size) for _ in range(num_layers)])\n",
    "    zero_state = tf.identity(multi_rnn.zero_state(batch_size, dtype=tf.float32), name=\"initial_state\")\n",
    "    \n",
    "    return multi_rnn, zero_state\n",
    "\n",
    "\n",
    "\"\"\"\n",
    "DON'T MODIFY ANYTHING IN THIS CELL THAT IS BELOW THIS LINE\n",
    "\"\"\"\n",
    "tests.test_get_init_cell(get_init_cell)"
   ]
  },
  {
   "cell_type": "markdown",
   "metadata": {},
   "source": [
    "### Word Embedding\n",
    "Apply embedding to `input_data` using TensorFlow.  Return the embedded sequence."
   ]
  },
  {
   "cell_type": "code",
   "execution_count": 10,
   "metadata": {},
   "outputs": [
    {
     "name": "stdout",
     "output_type": "stream",
     "text": [
      "Tests Passed\n"
     ]
    }
   ],
   "source": [
    "def get_embed(input_data, vocab_size, embed_dim):\n",
    "    \"\"\"\n",
    "    Create embedding for <input_data>.\n",
    "    :param input_data: TF placeholder for text input.\n",
    "    :param vocab_size: Number of words in vocabulary.\n",
    "    :param embed_dim: Number of embedding dimensions\n",
    "    :return: Embedded input.\n",
    "    \"\"\"\n",
    "    \n",
    "    embedding = tf.Variable(tf.random_uniform((vocab_size, embed_dim), -1, 1))\n",
    "    embed = tf.nn.embedding_lookup(embedding, input_data)\n",
    "    return embed\n",
    "\n",
    "\n",
    "\"\"\"\n",
    "DON'T MODIFY ANYTHING IN THIS CELL THAT IS BELOW THIS LINE\n",
    "\"\"\"\n",
    "tests.test_get_embed(get_embed)"
   ]
  },
  {
   "cell_type": "markdown",
   "metadata": {},
   "source": [
    "### Build RNN\n",
    "You created a RNN Cell in the `get_init_cell()` function.  Time to use the cell to create a RNN.\n",
    "- Build the RNN using the [`tf.nn.dynamic_rnn()`](https://www.tensorflow.org/api_docs/python/tf/nn/dynamic_rnn)\n",
    " - Apply the name \"final_state\" to the final state using [`tf.identity()`](https://www.tensorflow.org/api_docs/python/tf/identity)\n",
    "\n",
    "Return the outputs and final_state state in the following tuple `(Outputs, FinalState)` "
   ]
  },
  {
   "cell_type": "code",
   "execution_count": 11,
   "metadata": {},
   "outputs": [
    {
     "name": "stdout",
     "output_type": "stream",
     "text": [
      "Tests Passed\n"
     ]
    }
   ],
   "source": [
    "def build_rnn(cell, inputs):\n",
    "    \"\"\"\n",
    "    Create a RNN using a RNN Cell\n",
    "    :param cell: RNN Cell\n",
    "    :param inputs: Input text data\n",
    "    :return: Tuple (Outputs, Final State)\n",
    "    \"\"\"\n",
    "    # TODO: Implement Function\n",
    "    outputs, state = tf.nn.dynamic_rnn(cell, inputs, dtype=tf.float32)\n",
    "    return outputs, tf.identity(state, name=\"final_state\")\n",
    "\n",
    "\n",
    "\"\"\"\n",
    "DON'T MODIFY ANYTHING IN THIS CELL THAT IS BELOW THIS LINE\n",
    "\"\"\"\n",
    "tests.test_build_rnn(build_rnn)"
   ]
  },
  {
   "cell_type": "markdown",
   "metadata": {},
   "source": [
    "### Build the Neural Network\n",
    "Apply the functions you implemented above to:\n",
    "- Apply embedding to `input_data` using your `get_embed(input_data, vocab_size, embed_dim)` function.\n",
    "- Build RNN using `cell` and your `build_rnn(cell, inputs)` function.\n",
    "- Apply a fully connected layer with a linear activation and `vocab_size` as the number of outputs.\n",
    "\n",
    "Return the logits and final state in the following tuple (Logits, FinalState) "
   ]
  },
  {
   "cell_type": "code",
   "execution_count": 12,
   "metadata": {},
   "outputs": [
    {
     "name": "stdout",
     "output_type": "stream",
     "text": [
      "Tests Passed\n"
     ]
    }
   ],
   "source": [
    "def build_nn(cell, rnn_size, input_data, vocab_size, embed_dim):\n",
    "    \"\"\"\n",
    "    Build part of the neural network\n",
    "    :param cell: RNN cell\n",
    "    :param rnn_size: Size of rnns\n",
    "    :param input_data: Input data\n",
    "    :param vocab_size: Vocabulary size\n",
    "    :param embed_dim: Number of embedding dimensions\n",
    "    :return: Tuple (Logits, FinalState)\n",
    "    \"\"\"\n",
    "    # TODO: Implement Function\n",
    "    embedded_layer = get_embed(input_data, vocab_size, embed_dim)\n",
    "    rnn_layer_outputs, rnn_layer_final_state = build_rnn(cell, embedded_layer)\n",
    "    output_layer = tf.contrib.layers.fully_connected(rnn_layer_outputs, vocab_size, activation_fn=None)\n",
    "    return output_layer, rnn_layer_final_state\n",
    "\n",
    "\n",
    "\"\"\"\n",
    "DON'T MODIFY ANYTHING IN THIS CELL THAT IS BELOW THIS LINE\n",
    "\"\"\"\n",
    "tests.test_build_nn(build_nn)"
   ]
  },
  {
   "cell_type": "markdown",
   "metadata": {},
   "source": [
    "### Batches\n",
    "Implement `get_batches` to create batches of input and targets using `int_text`.  The batches should be a Numpy array with the shape `(number of batches, 2, batch size, sequence length)`. Each batch contains two elements:\n",
    "- The first element is a single batch of **input** with the shape `[batch size, sequence length]`\n",
    "- The second element is a single batch of **targets** with the shape `[batch size, sequence length]`\n",
    "\n",
    "If you can't fill the last batch with enough data, drop the last batch.\n",
    "\n",
    "For exmple, `get_batches([1, 2, 3, 4, 5, 6, 7, 8, 9, 10, 11, 12, 13, 14, 15, 16, 17, 18, 19, 20], 3, 2)` would return a Numpy array of the following:\n",
    "```\n",
    "[\n",
    "  # First Batch\n",
    "  [\n",
    "    # Batch of Input\n",
    "    [[ 1  2], [ 7  8], [13 14]]\n",
    "    # Batch of targets\n",
    "    [[ 2  3], [ 8  9], [14 15]]\n",
    "  ]\n",
    "\n",
    "  # Second Batch\n",
    "  [\n",
    "    # Batch of Input\n",
    "    [[ 3  4], [ 9 10], [15 16]]\n",
    "    # Batch of targets\n",
    "    [[ 4  5], [10 11], [16 17]]\n",
    "  ]\n",
    "\n",
    "  # Third Batch\n",
    "  [\n",
    "    # Batch of Input\n",
    "    [[ 5  6], [11 12], [17 18]]\n",
    "    # Batch of targets\n",
    "    [[ 6  7], [12 13], [18  1]]\n",
    "  ]\n",
    "]\n",
    "```\n",
    "\n",
    "Notice that the last target value in the last batch is the first input value of the first batch. In this case, `1`. This is a common technique used when creating sequence batches, although it is rather unintuitive."
   ]
  },
  {
   "cell_type": "code",
   "execution_count": 13,
   "metadata": {},
   "outputs": [
    {
     "name": "stdout",
     "output_type": "stream",
     "text": [
      "Tests Passed\n"
     ]
    }
   ],
   "source": [
    "def get_batches(int_text, batch_size, seq_length):\n",
    "    \"\"\"\n",
    "    Return batches of input and target\n",
    "    :param int_text: Text with the words replaced by their ids\n",
    "    :param batch_size: The size of batch\n",
    "    :param seq_length: The length of sequence\n",
    "    :return: Batches as a Numpy array\n",
    "    \"\"\"\n",
    "    # find the number of words in a batch\n",
    "    # note: batch size just means number of sequences per batch\n",
    "    num_of_words = batch_size * seq_length\n",
    "    # figure out how many \"batches\" there are \n",
    "    num_of_batches = len(int_text) // num_of_words\n",
    "    \n",
    "    # throw out any incomplete batches by multiplying the number of complete batches & num of words in a batch\n",
    "    int_text_resized = int_text[:num_of_batches * num_of_words]\n",
    "    arr_text = np.asarray(int_text_resized)\n",
    "    # now reshape the 1D array into a 2d array, so that the rows are the number of sequences per batch, and the columns are the\n",
    "    # words \n",
    "    # as a sanity check, the shape is 128 x 35, and since our sequence length is 5 that will give us 5 batches. \n",
    "    arr_text = arr_text.reshape((batch_size, -1))\n",
    "\n",
    "    #placeholder for targets and labels\n",
    "    batches_array = np.empty((num_of_batches, 2, batch_size, seq_length), dtype=int)\n",
    "    \n",
    "    # skip by 5 each time\n",
    "    for n in range(0, arr_text.shape[1], seq_length):\n",
    "        #iterator for batches_array\n",
    "        i = n // seq_length\n",
    "        x = arr_text[:,n:n+seq_length]\n",
    "        y = np.zeros_like(x)\n",
    "        # take the slice of x from the 1th element to the end, and make that the 0th-second to last element of y\n",
    "        y[:, :-1] = x[:, 1:]\n",
    "        \n",
    "        #grab first element of x in the next batch, set to y. Check to see if it's the last batch, if it\n",
    "        # is skip it\n",
    "        if(i != num_of_batches - 1):\n",
    "            y[:, -1] = arr_text[:, n+seq_length]\n",
    "        # take the first element of x and add it to the last element of y\n",
    "        else:\n",
    "            y[:-1, -1] = arr_text[1:, 0]\n",
    "            y[-1, -1] = arr_text[0,0]    \n",
    "        \n",
    "        batches_array[i][0] = x\n",
    "        batches_array[i][1] = y\n",
    "  \n",
    "    return batches_array\n",
    "\n",
    "\"\"\"\n",
    "DON'T MODIFY ANYTHING IN THIS CELL THAT IS BELOW THIS LINE\n",
    "\"\"\"\n",
    "tests.test_get_batches(get_batches)"
   ]
  },
  {
   "cell_type": "markdown",
   "metadata": {},
   "source": [
    "## Neural Network Training\n",
    "### Hyperparameters\n",
    "Tune the following parameters:\n",
    "\n",
    "- Set `num_epochs` to the number of epochs.\n",
    "- Set `batch_size` to the batch size.\n",
    "- Set `rnn_size` to the size of the RNNs.\n",
    "- Set `embed_dim` to the size of the embedding.\n",
    "- Set `seq_length` to the length of sequence.\n",
    "- Set `learning_rate` to the learning rate.\n",
    "- Set `show_every_n_batches` to the number of batches the neural network should print progress."
   ]
  },
  {
   "cell_type": "code",
   "execution_count": 38,
   "metadata": {
    "collapsed": true
   },
   "outputs": [],
   "source": [
    "# Number of Epochs\n",
    "num_epochs = 100\n",
    "# Batch Size\n",
    "batch_size = 25\n",
    "# RNN Size\n",
    "rnn_size = 512\n",
    "# Embedding Dimension Size\n",
    "embed_dim = 512\n",
    "# Sequence Length\n",
    "seq_length = 20\n",
    "# Learning Rate\n",
    "learning_rate = .001\n",
    "# Show stats for every n number of batches\n",
    "show_every_n_batches = 50\n",
    "\n",
    "\"\"\"\n",
    "DON'T MODIFY ANYTHING IN THIS CELL THAT IS BELOW THIS LINE\n",
    "\"\"\"\n",
    "save_dir = './save'"
   ]
  },
  {
   "cell_type": "markdown",
   "metadata": {},
   "source": [
    "### Build the Graph\n",
    "Build the graph using the neural network you implemented."
   ]
  },
  {
   "cell_type": "code",
   "execution_count": 39,
   "metadata": {
    "collapsed": true
   },
   "outputs": [],
   "source": [
    "\"\"\"\n",
    "DON'T MODIFY ANYTHING IN THIS CELL\n",
    "\"\"\"\n",
    "from tensorflow.contrib import seq2seq\n",
    "\n",
    "train_graph = tf.Graph()\n",
    "with train_graph.as_default():\n",
    "    vocab_size = len(int_to_vocab)\n",
    "    input_text, targets, lr = get_inputs()\n",
    "    input_data_shape = tf.shape(input_text)\n",
    "    cell, initial_state = get_init_cell(input_data_shape[0], rnn_size)\n",
    "    logits, final_state = build_nn(cell, rnn_size, input_text, vocab_size, embed_dim)\n",
    "\n",
    "    # Probabilities for generating words\n",
    "    probs = tf.nn.softmax(logits, name='probs')\n",
    "\n",
    "    # Loss function\n",
    "    cost = seq2seq.sequence_loss(\n",
    "        logits,\n",
    "        targets,\n",
    "        tf.ones([input_data_shape[0], input_data_shape[1]]))\n",
    "\n",
    "    # Optimizer\n",
    "    optimizer = tf.train.AdamOptimizer(lr)\n",
    "\n",
    "    # Gradient Clipping\n",
    "    gradients = optimizer.compute_gradients(cost)\n",
    "    capped_gradients = [(tf.clip_by_value(grad, -1., 1.), var) for grad, var in gradients if grad is not None]\n",
    "    train_op = optimizer.apply_gradients(capped_gradients)"
   ]
  },
  {
   "cell_type": "markdown",
   "metadata": {},
   "source": [
    "## Train\n",
    "Train the neural network on the preprocessed data.  If you have a hard time getting a good loss, check the [forums](https://discussions.udacity.com/) to see if anyone is having the same problem."
   ]
  },
  {
   "cell_type": "code",
   "execution_count": 40,
   "metadata": {},
   "outputs": [
    {
     "name": "stdout",
     "output_type": "stream",
     "text": [
      "Epoch   0 Batch    0/138   train_loss = 8.820\n",
      "Epoch   0 Batch   50/138   train_loss = 6.635\n",
      "Epoch   0 Batch  100/138   train_loss = 6.284\n",
      "Epoch   1 Batch   12/138   train_loss = 5.913\n",
      "Epoch   1 Batch   62/138   train_loss = 6.015\n",
      "Epoch   1 Batch  112/138   train_loss = 5.752\n",
      "Epoch   2 Batch   24/138   train_loss = 5.820\n",
      "Epoch   2 Batch   74/138   train_loss = 5.291\n",
      "Epoch   2 Batch  124/138   train_loss = 5.093\n",
      "Epoch   3 Batch   36/138   train_loss = 5.033\n",
      "Epoch   3 Batch   86/138   train_loss = 4.905\n",
      "Epoch   3 Batch  136/138   train_loss = 4.845\n",
      "Epoch   4 Batch   48/138   train_loss = 4.519\n",
      "Epoch   4 Batch   98/138   train_loss = 4.802\n",
      "Epoch   5 Batch   10/138   train_loss = 4.815\n",
      "Epoch   5 Batch   60/138   train_loss = 4.428\n",
      "Epoch   5 Batch  110/138   train_loss = 4.617\n",
      "Epoch   6 Batch   22/138   train_loss = 4.409\n",
      "Epoch   6 Batch   72/138   train_loss = 4.263\n",
      "Epoch   6 Batch  122/138   train_loss = 4.153\n",
      "Epoch   7 Batch   34/138   train_loss = 4.054\n",
      "Epoch   7 Batch   84/138   train_loss = 4.274\n",
      "Epoch   7 Batch  134/138   train_loss = 4.043\n",
      "Epoch   8 Batch   46/138   train_loss = 4.049\n",
      "Epoch   8 Batch   96/138   train_loss = 4.022\n",
      "Epoch   9 Batch    8/138   train_loss = 4.101\n",
      "Epoch   9 Batch   58/138   train_loss = 3.822\n",
      "Epoch   9 Batch  108/138   train_loss = 3.897\n",
      "Epoch  10 Batch   20/138   train_loss = 3.888\n",
      "Epoch  10 Batch   70/138   train_loss = 3.586\n",
      "Epoch  10 Batch  120/138   train_loss = 3.916\n",
      "Epoch  11 Batch   32/138   train_loss = 3.651\n",
      "Epoch  11 Batch   82/138   train_loss = 3.500\n",
      "Epoch  11 Batch  132/138   train_loss = 3.464\n",
      "Epoch  12 Batch   44/138   train_loss = 3.611\n",
      "Epoch  12 Batch   94/138   train_loss = 3.513\n",
      "Epoch  13 Batch    6/138   train_loss = 3.458\n",
      "Epoch  13 Batch   56/138   train_loss = 3.310\n",
      "Epoch  13 Batch  106/138   train_loss = 3.402\n",
      "Epoch  14 Batch   18/138   train_loss = 3.251\n",
      "Epoch  14 Batch   68/138   train_loss = 3.072\n",
      "Epoch  14 Batch  118/138   train_loss = 3.134\n",
      "Epoch  15 Batch   30/138   train_loss = 3.026\n",
      "Epoch  15 Batch   80/138   train_loss = 2.940\n",
      "Epoch  15 Batch  130/138   train_loss = 2.957\n",
      "Epoch  16 Batch   42/138   train_loss = 2.875\n",
      "Epoch  16 Batch   92/138   train_loss = 2.736\n",
      "Epoch  17 Batch    4/138   train_loss = 2.645\n",
      "Epoch  17 Batch   54/138   train_loss = 2.740\n",
      "Epoch  17 Batch  104/138   train_loss = 2.587\n",
      "Epoch  18 Batch   16/138   train_loss = 2.579\n",
      "Epoch  18 Batch   66/138   train_loss = 2.398\n",
      "Epoch  18 Batch  116/138   train_loss = 2.417\n",
      "Epoch  19 Batch   28/138   train_loss = 2.360\n",
      "Epoch  19 Batch   78/138   train_loss = 2.375\n",
      "Epoch  19 Batch  128/138   train_loss = 2.116\n",
      "Epoch  20 Batch   40/138   train_loss = 2.216\n",
      "Epoch  20 Batch   90/138   train_loss = 2.206\n",
      "Epoch  21 Batch    2/138   train_loss = 2.205\n",
      "Epoch  21 Batch   52/138   train_loss = 1.913\n",
      "Epoch  21 Batch  102/138   train_loss = 1.894\n",
      "Epoch  22 Batch   14/138   train_loss = 1.984\n",
      "Epoch  22 Batch   64/138   train_loss = 1.967\n",
      "Epoch  22 Batch  114/138   train_loss = 1.911\n",
      "Epoch  23 Batch   26/138   train_loss = 1.635\n",
      "Epoch  23 Batch   76/138   train_loss = 1.802\n",
      "Epoch  23 Batch  126/138   train_loss = 1.681\n",
      "Epoch  24 Batch   38/138   train_loss = 1.675\n",
      "Epoch  24 Batch   88/138   train_loss = 1.557\n",
      "Epoch  25 Batch    0/138   train_loss = 1.450\n",
      "Epoch  25 Batch   50/138   train_loss = 1.414\n",
      "Epoch  25 Batch  100/138   train_loss = 1.425\n",
      "Epoch  26 Batch   12/138   train_loss = 1.416\n",
      "Epoch  26 Batch   62/138   train_loss = 1.265\n",
      "Epoch  26 Batch  112/138   train_loss = 1.020\n",
      "Epoch  27 Batch   24/138   train_loss = 1.065\n",
      "Epoch  27 Batch   74/138   train_loss = 1.195\n",
      "Epoch  27 Batch  124/138   train_loss = 1.191\n",
      "Epoch  28 Batch   36/138   train_loss = 1.129\n",
      "Epoch  28 Batch   86/138   train_loss = 1.094\n",
      "Epoch  28 Batch  136/138   train_loss = 0.900\n",
      "Epoch  29 Batch   48/138   train_loss = 0.902\n",
      "Epoch  29 Batch   98/138   train_loss = 0.842\n",
      "Epoch  30 Batch   10/138   train_loss = 0.763\n",
      "Epoch  30 Batch   60/138   train_loss = 0.753\n",
      "Epoch  30 Batch  110/138   train_loss = 0.701\n",
      "Epoch  31 Batch   22/138   train_loss = 0.748\n",
      "Epoch  31 Batch   72/138   train_loss = 0.693\n",
      "Epoch  31 Batch  122/138   train_loss = 0.674\n",
      "Epoch  32 Batch   34/138   train_loss = 0.795\n",
      "Epoch  32 Batch   84/138   train_loss = 0.732\n",
      "Epoch  32 Batch  134/138   train_loss = 0.484\n",
      "Epoch  33 Batch   46/138   train_loss = 0.567\n",
      "Epoch  33 Batch   96/138   train_loss = 0.552\n",
      "Epoch  34 Batch    8/138   train_loss = 0.593\n",
      "Epoch  34 Batch   58/138   train_loss = 0.588\n",
      "Epoch  34 Batch  108/138   train_loss = 0.519\n",
      "Epoch  35 Batch   20/138   train_loss = 0.421\n",
      "Epoch  35 Batch   70/138   train_loss = 0.503\n",
      "Epoch  35 Batch  120/138   train_loss = 0.498\n",
      "Epoch  36 Batch   32/138   train_loss = 0.408\n",
      "Epoch  36 Batch   82/138   train_loss = 0.419\n",
      "Epoch  36 Batch  132/138   train_loss = 0.431\n",
      "Epoch  37 Batch   44/138   train_loss = 0.318\n",
      "Epoch  37 Batch   94/138   train_loss = 0.399\n",
      "Epoch  38 Batch    6/138   train_loss = 0.361\n",
      "Epoch  38 Batch   56/138   train_loss = 0.325\n",
      "Epoch  38 Batch  106/138   train_loss = 0.348\n",
      "Epoch  39 Batch   18/138   train_loss = 0.340\n",
      "Epoch  39 Batch   68/138   train_loss = 0.270\n",
      "Epoch  39 Batch  118/138   train_loss = 0.318\n",
      "Epoch  40 Batch   30/138   train_loss = 0.274\n",
      "Epoch  40 Batch   80/138   train_loss = 0.262\n",
      "Epoch  40 Batch  130/138   train_loss = 0.269\n",
      "Epoch  41 Batch   42/138   train_loss = 0.269\n",
      "Epoch  41 Batch   92/138   train_loss = 0.244\n",
      "Epoch  42 Batch    4/138   train_loss = 0.216\n",
      "Epoch  42 Batch   54/138   train_loss = 0.266\n",
      "Epoch  42 Batch  104/138   train_loss = 0.189\n",
      "Epoch  43 Batch   16/138   train_loss = 0.183\n",
      "Epoch  43 Batch   66/138   train_loss = 0.254\n",
      "Epoch  43 Batch  116/138   train_loss = 0.215\n",
      "Epoch  44 Batch   28/138   train_loss = 0.216\n",
      "Epoch  44 Batch   78/138   train_loss = 0.256\n",
      "Epoch  44 Batch  128/138   train_loss = 0.160\n",
      "Epoch  45 Batch   40/138   train_loss = 0.178\n",
      "Epoch  45 Batch   90/138   train_loss = 0.249\n",
      "Epoch  46 Batch    2/138   train_loss = 0.199\n",
      "Epoch  46 Batch   52/138   train_loss = 0.193\n",
      "Epoch  46 Batch  102/138   train_loss = 0.215\n",
      "Epoch  47 Batch   14/138   train_loss = 0.243\n",
      "Epoch  47 Batch   64/138   train_loss = 0.220\n",
      "Epoch  47 Batch  114/138   train_loss = 0.226\n",
      "Epoch  48 Batch   26/138   train_loss = 0.169\n",
      "Epoch  48 Batch   76/138   train_loss = 0.194\n",
      "Epoch  48 Batch  126/138   train_loss = 0.235\n",
      "Epoch  49 Batch   38/138   train_loss = 0.192\n",
      "Epoch  49 Batch   88/138   train_loss = 0.212\n",
      "Epoch  50 Batch    0/138   train_loss = 0.188\n",
      "Epoch  50 Batch   50/138   train_loss = 0.176\n",
      "Epoch  50 Batch  100/138   train_loss = 0.221\n",
      "Epoch  51 Batch   12/138   train_loss = 0.184\n",
      "Epoch  51 Batch   62/138   train_loss = 0.196\n",
      "Epoch  51 Batch  112/138   train_loss = 0.161\n",
      "Epoch  52 Batch   24/138   train_loss = 0.187\n",
      "Epoch  52 Batch   74/138   train_loss = 0.203\n",
      "Epoch  52 Batch  124/138   train_loss = 0.223\n",
      "Epoch  53 Batch   36/138   train_loss = 0.208\n",
      "Epoch  53 Batch   86/138   train_loss = 0.213\n",
      "Epoch  53 Batch  136/138   train_loss = 0.177\n",
      "Epoch  54 Batch   48/138   train_loss = 0.194\n",
      "Epoch  54 Batch   98/138   train_loss = 0.161\n",
      "Epoch  55 Batch   10/138   train_loss = 0.136\n",
      "Epoch  55 Batch   60/138   train_loss = 0.147\n",
      "Epoch  55 Batch  110/138   train_loss = 0.174\n",
      "Epoch  56 Batch   22/138   train_loss = 0.148\n",
      "Epoch  56 Batch   72/138   train_loss = 0.184\n",
      "Epoch  56 Batch  122/138   train_loss = 0.198\n",
      "Epoch  57 Batch   34/138   train_loss = 0.216\n",
      "Epoch  57 Batch   84/138   train_loss = 0.233\n",
      "Epoch  57 Batch  134/138   train_loss = 0.131\n",
      "Epoch  58 Batch   46/138   train_loss = 0.137\n",
      "Epoch  58 Batch   96/138   train_loss = 0.142\n",
      "Epoch  59 Batch    8/138   train_loss = 0.211\n",
      "Epoch  59 Batch   58/138   train_loss = 0.205\n",
      "Epoch  59 Batch  108/138   train_loss = 0.173\n",
      "Epoch  60 Batch   20/138   train_loss = 0.163\n",
      "Epoch  60 Batch   70/138   train_loss = 0.172\n",
      "Epoch  60 Batch  120/138   train_loss = 0.215\n",
      "Epoch  61 Batch   32/138   train_loss = 0.182\n",
      "Epoch  61 Batch   82/138   train_loss = 0.158\n",
      "Epoch  61 Batch  132/138   train_loss = 0.200\n",
      "Epoch  62 Batch   44/138   train_loss = 0.170\n",
      "Epoch  62 Batch   94/138   train_loss = 0.189\n",
      "Epoch  63 Batch    6/138   train_loss = 0.188\n",
      "Epoch  63 Batch   56/138   train_loss = 0.189\n",
      "Epoch  63 Batch  106/138   train_loss = 0.206\n",
      "Epoch  64 Batch   18/138   train_loss = 0.202\n",
      "Epoch  64 Batch   68/138   train_loss = 0.150\n"
     ]
    },
    {
     "name": "stdout",
     "output_type": "stream",
     "text": [
      "Epoch  64 Batch  118/138   train_loss = 0.176\n",
      "Epoch  65 Batch   30/138   train_loss = 0.166\n",
      "Epoch  65 Batch   80/138   train_loss = 0.179\n",
      "Epoch  65 Batch  130/138   train_loss = 0.165\n",
      "Epoch  66 Batch   42/138   train_loss = 0.196\n",
      "Epoch  66 Batch   92/138   train_loss = 0.178\n",
      "Epoch  67 Batch    4/138   train_loss = 0.146\n",
      "Epoch  67 Batch   54/138   train_loss = 0.177\n",
      "Epoch  67 Batch  104/138   train_loss = 0.139\n",
      "Epoch  68 Batch   16/138   train_loss = 0.125\n",
      "Epoch  68 Batch   66/138   train_loss = 0.176\n",
      "Epoch  68 Batch  116/138   train_loss = 0.156\n",
      "Epoch  69 Batch   28/138   train_loss = 0.173\n",
      "Epoch  69 Batch   78/138   train_loss = 0.202\n",
      "Epoch  69 Batch  128/138   train_loss = 0.116\n",
      "Epoch  70 Batch   40/138   train_loss = 0.140\n",
      "Epoch  70 Batch   90/138   train_loss = 0.196\n",
      "Epoch  71 Batch    2/138   train_loss = 0.158\n",
      "Epoch  71 Batch   52/138   train_loss = 0.142\n",
      "Epoch  71 Batch  102/138   train_loss = 0.178\n",
      "Epoch  72 Batch   14/138   train_loss = 0.197\n",
      "Epoch  72 Batch   64/138   train_loss = 0.159\n",
      "Epoch  72 Batch  114/138   train_loss = 0.188\n",
      "Epoch  73 Batch   26/138   train_loss = 0.145\n",
      "Epoch  73 Batch   76/138   train_loss = 0.147\n",
      "Epoch  73 Batch  126/138   train_loss = 0.197\n",
      "Epoch  74 Batch   38/138   train_loss = 0.156\n",
      "Epoch  74 Batch   88/138   train_loss = 0.183\n",
      "Epoch  75 Batch    0/138   train_loss = 0.148\n",
      "Epoch  75 Batch   50/138   train_loss = 0.157\n",
      "Epoch  75 Batch  100/138   train_loss = 0.188\n",
      "Epoch  76 Batch   12/138   train_loss = 0.158\n",
      "Epoch  76 Batch   62/138   train_loss = 0.173\n",
      "Epoch  76 Batch  112/138   train_loss = 0.135\n",
      "Epoch  77 Batch   24/138   train_loss = 0.165\n",
      "Epoch  77 Batch   74/138   train_loss = 0.177\n",
      "Epoch  77 Batch  124/138   train_loss = 0.184\n",
      "Epoch  78 Batch   36/138   train_loss = 0.186\n",
      "Epoch  78 Batch   86/138   train_loss = 0.183\n",
      "Epoch  78 Batch  136/138   train_loss = 0.156\n",
      "Epoch  79 Batch   48/138   train_loss = 0.171\n",
      "Epoch  79 Batch   98/138   train_loss = 0.141\n",
      "Epoch  80 Batch   10/138   train_loss = 0.120\n",
      "Epoch  80 Batch   60/138   train_loss = 0.126\n",
      "Epoch  80 Batch  110/138   train_loss = 0.154\n",
      "Epoch  81 Batch   22/138   train_loss = 0.127\n",
      "Epoch  81 Batch   72/138   train_loss = 0.165\n",
      "Epoch  81 Batch  122/138   train_loss = 0.181\n",
      "Epoch  82 Batch   34/138   train_loss = 0.199\n",
      "Epoch  82 Batch   84/138   train_loss = 0.221\n",
      "Epoch  82 Batch  134/138   train_loss = 0.123\n",
      "Epoch  83 Batch   46/138   train_loss = 0.124\n",
      "Epoch  83 Batch   96/138   train_loss = 0.135\n",
      "Epoch  84 Batch    8/138   train_loss = 0.191\n",
      "Epoch  84 Batch   58/138   train_loss = 0.193\n",
      "Epoch  84 Batch  108/138   train_loss = 0.799\n",
      "Epoch  85 Batch   20/138   train_loss = 1.053\n",
      "Epoch  85 Batch   70/138   train_loss = 0.877\n",
      "Epoch  85 Batch  120/138   train_loss = 0.772\n",
      "Epoch  86 Batch   32/138   train_loss = 0.523\n",
      "Epoch  86 Batch   82/138   train_loss = 0.379\n",
      "Epoch  86 Batch  132/138   train_loss = 0.307\n",
      "Epoch  87 Batch   44/138   train_loss = 0.243\n",
      "Epoch  87 Batch   94/138   train_loss = 0.228\n",
      "Epoch  88 Batch    6/138   train_loss = 0.205\n",
      "Epoch  88 Batch   56/138   train_loss = 0.194\n",
      "Epoch  88 Batch  106/138   train_loss = 0.203\n",
      "Epoch  89 Batch   18/138   train_loss = 0.213\n",
      "Epoch  89 Batch   68/138   train_loss = 0.149\n",
      "Epoch  89 Batch  118/138   train_loss = 0.171\n",
      "Epoch  90 Batch   30/138   train_loss = 0.160\n",
      "Epoch  90 Batch   80/138   train_loss = 0.180\n",
      "Epoch  90 Batch  130/138   train_loss = 0.155\n",
      "Epoch  91 Batch   42/138   train_loss = 0.185\n",
      "Epoch  91 Batch   92/138   train_loss = 0.171\n",
      "Epoch  92 Batch    4/138   train_loss = 0.140\n",
      "Epoch  92 Batch   54/138   train_loss = 0.165\n",
      "Epoch  92 Batch  104/138   train_loss = 0.132\n",
      "Epoch  93 Batch   16/138   train_loss = 0.118\n",
      "Epoch  93 Batch   66/138   train_loss = 0.170\n",
      "Epoch  93 Batch  116/138   train_loss = 0.149\n",
      "Epoch  94 Batch   28/138   train_loss = 0.167\n",
      "Epoch  94 Batch   78/138   train_loss = 0.190\n",
      "Epoch  94 Batch  128/138   train_loss = 0.113\n",
      "Epoch  95 Batch   40/138   train_loss = 0.131\n",
      "Epoch  95 Batch   90/138   train_loss = 0.189\n",
      "Epoch  96 Batch    2/138   train_loss = 0.151\n",
      "Epoch  96 Batch   52/138   train_loss = 0.139\n",
      "Epoch  96 Batch  102/138   train_loss = 0.170\n",
      "Epoch  97 Batch   14/138   train_loss = 0.192\n",
      "Epoch  97 Batch   64/138   train_loss = 0.152\n",
      "Epoch  97 Batch  114/138   train_loss = 0.183\n",
      "Epoch  98 Batch   26/138   train_loss = 0.141\n",
      "Epoch  98 Batch   76/138   train_loss = 0.142\n",
      "Epoch  98 Batch  126/138   train_loss = 0.189\n",
      "Epoch  99 Batch   38/138   train_loss = 0.150\n",
      "Epoch  99 Batch   88/138   train_loss = 0.177\n",
      "Model Trained and Saved\n"
     ]
    }
   ],
   "source": [
    "\"\"\"\n",
    "DON'T MODIFY ANYTHING IN THIS CELL\n",
    "\"\"\"\n",
    "batches = get_batches(int_text, batch_size, seq_length)\n",
    "\n",
    "with tf.Session(graph=train_graph) as sess:\n",
    "    sess.run(tf.global_variables_initializer())\n",
    "\n",
    "    for epoch_i in range(num_epochs):\n",
    "        state = sess.run(initial_state, {input_text: batches[0][0]})\n",
    "\n",
    "        for batch_i, (x, y) in enumerate(batches):\n",
    "            feed = {\n",
    "                input_text: x,\n",
    "                targets: y,\n",
    "                initial_state: state,\n",
    "                lr: learning_rate}\n",
    "            train_loss, state, _ = sess.run([cost, final_state, train_op], feed)\n",
    "\n",
    "            # Show every <show_every_n_batches> batches\n",
    "            if (epoch_i * len(batches) + batch_i) % show_every_n_batches == 0:\n",
    "                print('Epoch {:>3} Batch {:>4}/{}   train_loss = {:.3f}'.format(\n",
    "                    epoch_i,\n",
    "                    batch_i,\n",
    "                    len(batches),\n",
    "                    train_loss))\n",
    "\n",
    "    # Save Model\n",
    "    saver = tf.train.Saver()\n",
    "    saver.save(sess, save_dir)\n",
    "    print('Model Trained and Saved')"
   ]
  },
  {
   "cell_type": "markdown",
   "metadata": {},
   "source": [
    "## Save Parameters\n",
    "Save `seq_length` and `save_dir` for generating a new TV script."
   ]
  },
  {
   "cell_type": "code",
   "execution_count": 41,
   "metadata": {
    "collapsed": true
   },
   "outputs": [],
   "source": [
    "\"\"\"\n",
    "DON'T MODIFY ANYTHING IN THIS CELL\n",
    "\"\"\"\n",
    "# Save parameters for checkpoint\n",
    "helper.save_params((seq_length, save_dir))"
   ]
  },
  {
   "cell_type": "markdown",
   "metadata": {},
   "source": [
    "# Checkpoint"
   ]
  },
  {
   "cell_type": "code",
   "execution_count": 42,
   "metadata": {
    "collapsed": true
   },
   "outputs": [],
   "source": [
    "\"\"\"\n",
    "DON'T MODIFY ANYTHING IN THIS CELL\n",
    "\"\"\"\n",
    "import tensorflow as tf\n",
    "import numpy as np\n",
    "import helper\n",
    "import problem_unittests as tests\n",
    "\n",
    "_, vocab_to_int, int_to_vocab, token_dict = helper.load_preprocess()\n",
    "seq_length, load_dir = helper.load_params()"
   ]
  },
  {
   "cell_type": "markdown",
   "metadata": {},
   "source": [
    "## Implement Generate Functions\n",
    "### Get Tensors\n",
    "Get tensors from `loaded_graph` using the function [`get_tensor_by_name()`](https://www.tensorflow.org/api_docs/python/tf/Graph#get_tensor_by_name).  Get the tensors using the following names:\n",
    "- \"input:0\"\n",
    "- \"initial_state:0\"\n",
    "- \"final_state:0\"\n",
    "- \"probs:0\"\n",
    "\n",
    "Return the tensors in the following tuple `(InputTensor, InitialStateTensor, FinalStateTensor, ProbsTensor)` "
   ]
  },
  {
   "cell_type": "code",
   "execution_count": 43,
   "metadata": {},
   "outputs": [
    {
     "name": "stdout",
     "output_type": "stream",
     "text": [
      "Tests Passed\n"
     ]
    }
   ],
   "source": [
    "def get_tensors(loaded_graph):\n",
    "    \"\"\"\n",
    "    Get input, initial state, final state, and probabilities tensor from <loaded_graph>\n",
    "    :param loaded_graph: TensorFlow graph loaded from file\n",
    "    :return: Tuple (InputTensor, InitialStateTensor, FinalStateTensor, ProbsTensor)\n",
    "    \"\"\"\n",
    "    # TODO: Implement Function\n",
    "    return loaded_graph.get_tensor_by_name(\"input:0\"), loaded_graph.get_tensor_by_name(\"initial_state:0\"), loaded_graph.get_tensor_by_name(\"final_state:0\"), loaded_graph.get_tensor_by_name(\"probs:0\")\n",
    "\n",
    "\n",
    "\"\"\"\n",
    "DON'T MODIFY ANYTHING IN THIS CELL THAT IS BELOW THIS LINE\n",
    "\"\"\"\n",
    "tests.test_get_tensors(get_tensors)"
   ]
  },
  {
   "cell_type": "markdown",
   "metadata": {},
   "source": [
    "### Choose Word\n",
    "Implement the `pick_word()` function to select the next word using `probabilities`."
   ]
  },
  {
   "cell_type": "code",
   "execution_count": 44,
   "metadata": {},
   "outputs": [
    {
     "name": "stdout",
     "output_type": "stream",
     "text": [
      "Tests Passed\n"
     ]
    }
   ],
   "source": [
    "def pick_word(probabilities, int_to_vocab):\n",
    "    \"\"\"\n",
    "    Pick the next word in the generated text\n",
    "    :param probabilities: Probabilites of the next word\n",
    "    :param int_to_vocab: Dictionary of word ids as the keys and words as the values\n",
    "    :return: String of the predicted word\n",
    "    \"\"\"\n",
    "    # TODO: Implement Function\n",
    "    max_index = probabilities.argmax()\n",
    "    return int_to_vocab[max_index]\n",
    "\n",
    "\n",
    "\"\"\"\n",
    "DON'T MODIFY ANYTHING IN THIS CELL THAT IS BELOW THIS LINE\n",
    "\"\"\"\n",
    "tests.test_pick_word(pick_word)"
   ]
  },
  {
   "cell_type": "markdown",
   "metadata": {},
   "source": [
    "## Generate TV Script\n",
    "This will generate the TV script for you.  Set `gen_length` to the length of TV script you want to generate."
   ]
  },
  {
   "cell_type": "code",
   "execution_count": 45,
   "metadata": {},
   "outputs": [
    {
     "name": "stdout",
     "output_type": "stream",
     "text": [
      "INFO:tensorflow:Restoring parameters from ./save\n",
      "moe_szyslak:(lying) no, this is... bo's cavern.\n",
      "mrs. _powers:(disgusted) my birthday boy bowl...\n",
      "moe_szyslak:(cutting him off) too wrong!\n",
      "homer_simpson:(sings) so goodbye...\n",
      "homer_simpson:(singing) every teddy bear who's been good is to turn.\n",
      "moe_szyslak: uh, well, you care on the wrong.\n",
      "carl_carlson:(proudly) i did run a little advice.\n",
      "moe_szyslak: if i couldn't anything about the booze.\n",
      "moe_szyslak:(sighs) i can't believe it's gonna take your eyeball and be going to play.\n",
      "carl_carlson: look, two, isn't it works. i had a lotta dinner to a favor.\n",
      "homer_simpson:(sigh) i need cash, i'd like a beer.\n",
      "homer_simpson:(surprised) you all know edna?\n",
      "barney_gumble: oh yeah?!\n",
      "\n",
      "\n",
      "moe_szyslak: hey, barney! soul mate? don't you get that last one!\n",
      "moe_szyslak: homer, if i'm not gonna let anything happen to my two.\n",
      "waylon_smithers: i'm\n"
     ]
    }
   ],
   "source": [
    "gen_length = 200\n",
    "# homer_simpson, moe_szyslak, or Barney_Gumble\n",
    "prime_word = 'moe_szyslak'\n",
    "\n",
    "\"\"\"\n",
    "DON'T MODIFY ANYTHING IN THIS CELL THAT IS BELOW THIS LINE\n",
    "\"\"\"\n",
    "loaded_graph = tf.Graph()\n",
    "with tf.Session(graph=loaded_graph) as sess:\n",
    "    # Load saved model\n",
    "    loader = tf.train.import_meta_graph(load_dir + '.meta')\n",
    "    loader.restore(sess, load_dir)\n",
    "\n",
    "    # Get Tensors from loaded model\n",
    "    input_text, initial_state, final_state, probs = get_tensors(loaded_graph)\n",
    "\n",
    "    # Sentences generation setup\n",
    "    gen_sentences = [prime_word + ':']\n",
    "    prev_state = sess.run(initial_state, {input_text: np.array([[1]])})\n",
    "\n",
    "    # Generate sentences\n",
    "    for n in range(gen_length):\n",
    "        # Dynamic Input\n",
    "        dyn_input = [[vocab_to_int[word] for word in gen_sentences[-seq_length:]]]\n",
    "        dyn_seq_length = len(dyn_input[0])\n",
    "\n",
    "        # Get Prediction\n",
    "        probabilities, prev_state = sess.run(\n",
    "            [probs, final_state],\n",
    "            {input_text: dyn_input, initial_state: prev_state})\n",
    "        \n",
    "        pred_word = pick_word(probabilities[dyn_seq_length-1], int_to_vocab)\n",
    "\n",
    "        gen_sentences.append(pred_word)\n",
    "    \n",
    "    # Remove tokens\n",
    "    tv_script = ' '.join(gen_sentences)\n",
    "    for key, token in token_dict.items():\n",
    "        ending = ' ' if key in ['\\n', '(', '\"'] else ''\n",
    "        tv_script = tv_script.replace(' ' + token.lower(), key)\n",
    "    tv_script = tv_script.replace('\\n ', '\\n')\n",
    "    tv_script = tv_script.replace('( ', '(')\n",
    "        \n",
    "    print(tv_script)"
   ]
  },
  {
   "cell_type": "markdown",
   "metadata": {},
   "source": [
    "# The TV Script is Nonsensical\n",
    "It's ok if the TV script doesn't make any sense.  We trained on less than a megabyte of text.  In order to get good results, you'll have to use a smaller vocabulary or get more data.  Luckly there's more data!  As we mentioned in the begging of this project, this is a subset of [another dataset](https://www.kaggle.com/wcukierski/the-simpsons-by-the-data).  We didn't have you train on all the data, because that would take too long.  However, you are free to train your neural network on all the data.  After you complete the project, of course.\n",
    "# Submitting This Project\n",
    "When submitting this project, make sure to run all the cells before saving the notebook. Save the notebook file as \"dlnd_tv_script_generation.ipynb\" and save it as a HTML file under \"File\" -> \"Download as\". Include the \"helper.py\" and \"problem_unittests.py\" files in your submission."
   ]
  }
 ],
 "metadata": {
  "kernelspec": {
   "display_name": "Python 3",
   "language": "python",
   "name": "python3"
  },
  "language_info": {
   "codemirror_mode": {
    "name": "ipython",
    "version": 3
   },
   "file_extension": ".py",
   "mimetype": "text/x-python",
   "name": "python",
   "nbconvert_exporter": "python",
   "pygments_lexer": "ipython3",
   "version": "3.5.3"
  },
  "widgets": {
   "state": {},
   "version": "1.1.2"
  }
 },
 "nbformat": 4,
 "nbformat_minor": 1
}
